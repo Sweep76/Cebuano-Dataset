{
 "cells": [
  {
   "cell_type": "code",
   "execution_count": 30,
   "metadata": {},
   "outputs": [
    {
     "name": "stdout",
     "output_type": "stream",
     "text": [
      "Refined sentences saved to \"refined.txt\".\n"
     ]
    }
   ],
   "source": [
    "import re\n",
    "\n",
    "def normalize_bracket_format(input_file, output_file):\n",
    "    with open(input_file, 'r') as infile, open(output_file, 'w') as outfile:\n",
    "        for line in infile:\n",
    "            line = line.strip()\n",
    "            if line:\n",
    "                # Step 1: Remove backslashes\n",
    "                line = line.replace('\\\\', '')\n",
    "\n",
    "                # Step 2: Normalize spaces\n",
    "                line = re.sub(r'\\s+', ' ', line).strip()\n",
    "\n",
    "                # Step 3: Convert square brackets to parentheses\n",
    "                line = line.replace('[', '(').replace(']', ')')\n",
    "\n",
    "                # Step 4: Adjust the formatting\n",
    "                # Ensure that each phrase is correctly nested\n",
    "                line = re.sub(r'(\\w+)\\s*\\(', r'(\\1 ', line)  # Ensure a space after the component before '('\n",
    "\n",
    "                # Wrap NP and AdvP correctly\n",
    "                line = re.sub(r'(\\s*NP\\s*\\()', r' (NP ', line)\n",
    "                line = re.sub(r'(\\s*Adv P\\s*\\()', r' (AdvP ', line)\n",
    "\n",
    "                # Step 5: Correctly format nested structures\n",
    "                # Wrap individual components within parentheses\n",
    "                line = re.sub(r'(\\w+)\\s+', r'(\\1) ', line)  # Wrap components in parentheses\n",
    "\n",
    "                # Step 6: Clean up redundant parentheses\n",
    "                line = re.sub(r'\\s*\\(\\s*', '(', line)  # Remove space before parentheses\n",
    "                line = re.sub(r'\\s*\\)', ')', line)      # Remove space before closing parentheses\n",
    "\n",
    "                # Wrap the entire structure in parentheses\n",
    "                line = f'({line.strip()})'\n",
    "\n",
    "                # Write to output file\n",
    "                outfile.write(line + '\\n')\n",
    "\n",
    "# Input and output file paths\n",
    "input_file = 'raw.txt'  # Your input file\n",
    "output_file = 'refined.txt'  # Your output file\n",
    "\n",
    "# Normalize the bracket format\n",
    "normalize_bracket_format(input_file, output_file)\n",
    "print(f'Refined sentences saved to \"{output_file}\".')\n"
   ]
  }
 ],
 "metadata": {
  "kernelspec": {
   "display_name": "Python 3",
   "language": "python",
   "name": "python3"
  },
  "language_info": {
   "codemirror_mode": {
    "name": "ipython",
    "version": 3
   },
   "file_extension": ".py",
   "mimetype": "text/x-python",
   "name": "python",
   "nbconvert_exporter": "python",
   "pygments_lexer": "ipython3",
   "version": "3.11.5"
  }
 },
 "nbformat": 4,
 "nbformat_minor": 2
}
