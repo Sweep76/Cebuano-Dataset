{
 "cells": [
  {
   "cell_type": "code",
   "execution_count": 2,
   "metadata": {},
   "outputs": [
    {
     "name": "stdout",
     "output_type": "stream",
     "text": [
      "             S            \n",
      "         ____|_________    \n",
      "       JJP             |  \n",
      "        |              |   \n",
      "        JJ             NP \n",
      "   _____|________      |   \n",
      "  JJ   Adv      Adv    NN \n",
      "  |     |        |     |   \n",
      "Bikil kaayo     ning bataa\n",
      "\n"
     ]
    }
   ],
   "source": [
    "from nltk import Tree\n",
    "import re\n",
    "import matplotlib.pyplot as plt\n",
    "\n",
    "# Function to convert square brackets to parentheses\n",
    "def convert_to_parentheses(bracketed_sentence):\n",
    "    # Add spaces for clarity\n",
    "    cleaned_sentence = re.sub(r'(\\w)(\\[)', r'\\1 [', bracketed_sentence)  # Space before [\n",
    "    cleaned_sentence = re.sub(r'(\\])(\\w)', r'] \\1', cleaned_sentence)   # Space after ]\n",
    "    cleaned_sentence = re.sub(r'\\s+', ' ', cleaned_sentence).strip()    # Normalize spaces\n",
    "\n",
    "    # Convert square brackets to parentheses\n",
    "    parentheses_sentence = cleaned_sentence.replace('[', '(').replace(']', ')')\n",
    "\n",
    "    # Wrap the entire sentence in parentheses if missing\n",
    "    if not parentheses_sentence.startswith(\"(\"):\n",
    "        parentheses_sentence = f\"({parentheses_sentence})\"\n",
    "    return parentheses_sentence\n",
    "\n",
    "# Function to parse bracketed format into a tree\n",
    "def bracketed_to_tree(bracketed_sentence):\n",
    "    converted_sentence = convert_to_parentheses(bracketed_sentence)\n",
    "    return Tree.fromstring(converted_sentence)\n",
    "\n",
    "# Function to draw the tree\n",
    "def draw_tree(tree):\n",
    "    tree.pretty_print()  # This prints a textual representation in console\n",
    "    tree.draw()  # This opens a new window to visualize the tree graphically\n",
    "\n",
    "# Function to read sentences from a file and generate parse trees\n",
    "def process_file(input_file):\n",
    "    with open(input_file, 'r') as infile:\n",
    "        for line in infile:\n",
    "            line = line.strip()\n",
    "            if line:  # Skip empty lines\n",
    "                try:\n",
    "                    parse_tree = bracketed_to_tree(line)\n",
    "                    # Draw parse tree\n",
    "                    draw_tree(parse_tree)\n",
    "\n",
    "                except Exception as e:\n",
    "                    print(f\"Error parsing line: {line}\\n{e}\")\n",
    "\n",
    "# Input file path\n",
    "input_file = \"input_sentences.txt\"  # Input file with bracketed sentences\n",
    "\n",
    "# Process the file\n",
    "process_file(input_file)"
   ]
  }
 ],
 "metadata": {
  "kernelspec": {
   "display_name": "Python 3",
   "language": "python",
   "name": "python3"
  },
  "language_info": {
   "codemirror_mode": {
    "name": "ipython",
    "version": 3
   },
   "file_extension": ".py",
   "mimetype": "text/x-python",
   "name": "python",
   "nbconvert_exporter": "python",
   "pygments_lexer": "ipython3",
   "version": "3.11.5"
  }
 },
 "nbformat": 4,
 "nbformat_minor": 2
}
